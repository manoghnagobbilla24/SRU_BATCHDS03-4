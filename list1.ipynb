{
  "nbformat": 4,
  "nbformat_minor": 0,
  "metadata": {
    "colab": {
      "provenance": [],
      "authorship_tag": "ABX9TyPX70eVuQ1EANKweJ4FSqJq",
      "include_colab_link": true
    },
    "kernelspec": {
      "name": "python3",
      "display_name": "Python 3"
    },
    "language_info": {
      "name": "python"
    }
  },
  "cells": [
    {
      "cell_type": "markdown",
      "metadata": {
        "id": "view-in-github",
        "colab_type": "text"
      },
      "source": [
        "<a href=\"https://colab.research.google.com/github/manoghnagobbilla24/SRU_BATCHDS03-4/blob/main/list1.ipynb\" target=\"_parent\"><img src=\"https://colab.research.google.com/assets/colab-badge.svg\" alt=\"Open In Colab\"/></a>"
      ]
    },
    {
      "cell_type": "code",
      "execution_count": 4,
      "metadata": {
        "colab": {
          "base_uri": "https://localhost:8080/"
        },
        "id": "6Wd2ZYcZoJsB",
        "outputId": "ac1f4cd0-41f1-44aa-f362-57e37c2077cd"
      },
      "outputs": [
        {
          "output_type": "stream",
          "name": "stdout",
          "text": [
            "1\n",
            "[1, 2, 'world', True]\n",
            "[1, 2, 'world', True, 5]\n"
          ]
        }
      ],
      "source": [
        "my_list=[1,2,\"hello\",True]\n",
        "print(my_list[0])\n",
        "my_list[2]=\"world\"\n",
        "print(my_list)\n",
        "my_list.append(5)\n",
        "print(my_list)"
      ]
    },
    {
      "cell_type": "code",
      "source": [],
      "metadata": {
        "id": "tLAE5H38q1Eg"
      },
      "execution_count": null,
      "outputs": []
    }
  ]
}