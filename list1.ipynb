{
  "nbformat": 4,
  "nbformat_minor": 0,
  "metadata": {
    "colab": {
      "provenance": [],
      "authorship_tag": "ABX9TyP0NkzecOkY7jOaV29ztgNl",
      "include_colab_link": true
    },
    "kernelspec": {
      "name": "python3",
      "display_name": "Python 3"
    },
    "language_info": {
      "name": "python"
    }
  },
  "cells": [
    {
      "cell_type": "markdown",
      "metadata": {
        "id": "view-in-github",
        "colab_type": "text"
      },
      "source": [
        "<a href=\"https://colab.research.google.com/github/manoghnagobbilla24/SRU_BATCHDS03-4/blob/main/list1.ipynb\" target=\"_parent\"><img src=\"https://colab.research.google.com/assets/colab-badge.svg\" alt=\"Open In Colab\"/></a>"
      ]
    },
    {
      "cell_type": "code",
      "execution_count": 4,
      "metadata": {
        "colab": {
          "base_uri": "https://localhost:8080/"
        },
        "id": "6Wd2ZYcZoJsB",
        "outputId": "ac1f4cd0-41f1-44aa-f362-57e37c2077cd"
      },
      "outputs": [
        {
          "output_type": "stream",
          "name": "stdout",
          "text": [
            "1\n",
            "[1, 2, 'world', True]\n",
            "[1, 2, 'world', True, 5]\n"
          ]
        }
      ],
      "source": [
        "my_list=[1,2,\"hello\",True]\n",
        "print(my_list[0])\n",
        "my_list[2]=\"world\"\n",
        "print(my_list)\n",
        "my_list.append(5)\n",
        "print(my_list)"
      ]
    },
    {
      "cell_type": "code",
      "source": [
        "my_dict={\"name\":\"Alice\",\"age\":30,\"city\":\"Newyork\",\"occupation\":\"Teacher\"}\n",
        "print(my_dict[\"name\"])\n",
        "my_dict[\"occupation\"]=\"Engineer\"\n",
        "print(my_dict)"
      ],
      "metadata": {
        "colab": {
          "base_uri": "https://localhost:8080/"
        },
        "id": "tLAE5H38q1Eg",
        "outputId": "d32a3055-4e5c-4861-9ab3-2804804c4db8"
      },
      "execution_count": 5,
      "outputs": [
        {
          "output_type": "stream",
          "name": "stdout",
          "text": [
            "Alice\n",
            "{'name': 'Alice', 'age': 30, 'city': 'Newyork', 'occupation': 'Teacher', 'occpation': 'Engineer'}\n"
          ]
        }
      ]
    },
    {
      "cell_type": "code",
      "source": [
        " import pandas as pd\n",
        "\n",
        "data = {\n",
        "    \"name\": [\"Alice\", \"Bob\", \"Charlie\"],\n",
        "    \"age\": [25, 24, 35],\n",
        "    \"City\": [\"New York\", \"London\", \"Australia\"]\n",
        "}\n",
        "\n",
        "df = pd.DataFrame(data)\n",
        "print(df)"
      ],
      "metadata": {
        "colab": {
          "base_uri": "https://localhost:8080/"
        },
        "id": "7NyFZJdLxIwa",
        "outputId": "1c95c1e4-06eb-4171-ae97-b8653c65b182"
      },
      "execution_count": 6,
      "outputs": [
        {
          "output_type": "stream",
          "name": "stdout",
          "text": [
            "      name  age       City\n",
            "0    Alice   25   New York\n",
            "1      Bob   24     London\n",
            "2  Charlie   35  Australia\n"
          ]
        }
      ]
    }
  ]
}